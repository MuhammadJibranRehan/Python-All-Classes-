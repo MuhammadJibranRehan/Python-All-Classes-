{
 "cells": [
  {
   "cell_type": "code",
   "execution_count": 1,
   "metadata": {},
   "outputs": [
    {
     "name": "stdout",
     "output_type": "stream",
     "text": [
      "name\n"
     ]
    }
   ],
   "source": [
    "print(\"name\")"
   ]
  },
  {
   "cell_type": "code",
   "execution_count": 2,
   "metadata": {},
   "outputs": [
    {
     "ename": "NameError",
     "evalue": "name 'name' is not defined",
     "output_type": "error",
     "traceback": [
      "\u001b[1;31m---------------------------------------------------------------------------\u001b[0m",
      "\u001b[1;31mNameError\u001b[0m                                 Traceback (most recent call last)",
      "Cell \u001b[1;32mIn[2], line 1\u001b[0m\n\u001b[1;32m----> 1\u001b[0m \u001b[38;5;28mprint\u001b[39m(\u001b[43mname\u001b[49m)\n",
      "\u001b[1;31mNameError\u001b[0m: name 'name' is not defined"
     ]
    }
   ],
   "source": [
    "print(name)"
   ]
  },
  {
   "cell_type": "code",
   "execution_count": 3,
   "metadata": {},
   "outputs": [
    {
     "name": "stdout",
     "output_type": "stream",
     "text": [
      "Muhammad Jibran Rehan\n"
     ]
    }
   ],
   "source": [
    "name : str = \"Muhammad Jibran Rehan\"\n",
    "\n",
    "print(name)"
   ]
  },
  {
   "cell_type": "code",
   "execution_count": null,
   "metadata": {},
   "outputs": [],
   "source": [
    "name : str = \"Muhammad Jibran Rehan\"\n",
    "\n",
    "print(type(name))\n",
    "print(name)"
   ]
  },
  {
   "cell_type": "code",
   "execution_count": 4,
   "metadata": {},
   "outputs": [
    {
     "name": "stdout",
     "output_type": "stream",
     "text": [
      "<class 'str'>\n",
      "Muhammad Jibran Rehan\n"
     ]
    }
   ],
   "source": [
    "name : str = 'Muhammad Jibran Rehan'\n",
    "\n",
    "print(type(name))\n",
    "print(name)"
   ]
  },
  {
   "cell_type": "code",
   "execution_count": 5,
   "metadata": {},
   "outputs": [
    {
     "name": "stdout",
     "output_type": "stream",
     "text": [
      "<class 'str'>\n",
      "Muhammad Jibran Rehan\n"
     ]
    }
   ],
   "source": [
    "name : str = \"\"\"Muhammad Jibran Rehan\"\"\"\n",
    "\n",
    "print(type(name))\n",
    "print(name)"
   ]
  },
  {
   "cell_type": "code",
   "execution_count": 8,
   "metadata": {},
   "outputs": [
    {
     "name": "stdout",
     "output_type": "stream",
     "text": [
      "Python Students \n",
      " father's Name\n"
     ]
    }
   ],
   "source": [
    "message : str = \"Python Students \\n father's Name\"\n",
    "print(message)"
   ]
  },
  {
   "cell_type": "code",
   "execution_count": 9,
   "metadata": {},
   "outputs": [
    {
     "name": "stdout",
     "output_type": "stream",
     "text": [
      "\"Python\" Students \n",
      " father Name\n"
     ]
    }
   ],
   "source": [
    "message : str = '\"Python\" Students \\n father Name'\n",
    "print(message)"
   ]
  },
  {
   "cell_type": "code",
   "execution_count": null,
   "metadata": {},
   "outputs": [],
   "source": [
    "message : str = \"\"\" \"Python\" Students \\n father's Name\"\"\"\n",
    "print(message)"
   ]
  },
  {
   "cell_type": "code",
   "execution_count": 23,
   "metadata": {},
   "outputs": [
    {
     "name": "stdout",
     "output_type": "stream",
     "text": [
      "Python Student Card\n",
      " Student Name: Muhammad Jibran Rehan\n",
      " Age:15\n",
      " Father Name: Rehan Farooq Ul Haq\n",
      " Education: IX\n"
     ]
    }
   ],
   "source": [
    "name : str = \"Muhammad Jibran Rehan\"\n",
    "father_name : str = \"Rehan Farooq Ul Haq\"\n",
    "education : str = \"IX\"\n",
    "age : int = \"15\"\n",
    "age1 : int = str(15)\n",
    "\n",
    "card : str = \"Python Student Card\\n Student Name: \"+ name + \"\\n Age:\" + age + \"\\n Father Name: \" + father_name + \"\\n Education: \" + education\n",
    "print(card)"
   ]
  },
  {
   "cell_type": "code",
   "execution_count": null,
   "metadata": {},
   "outputs": [
    {
     "name": "stdout",
     "output_type": "stream",
     "text": [
      "17\n"
     ]
    }
   ],
   "source": [
    "print(7 + 8 + 2)"
   ]
  },
  {
   "cell_type": "markdown",
   "metadata": {},
   "source": [
    "# \" \\\\\" means line continue"
   ]
  },
  {
   "cell_type": "code",
   "execution_count": 28,
   "metadata": {},
   "outputs": [
    {
     "name": "stdout",
     "output_type": "stream",
     "text": [
      "17\n"
     ]
    }
   ],
   "source": [
    "print(7 + \\\n",
    "      8 + \\\n",
    "      2)"
   ]
  },
  {
   "cell_type": "markdown",
   "metadata": {},
   "source": [
    "## Define multi line strng \"\"\" \"\"\", ''' '''"
   ]
  },
  {
   "cell_type": "code",
   "execution_count": null,
   "metadata": {},
   "outputs": [
    {
     "name": "stdout",
     "output_type": "stream",
     "text": [
      "\n",
      "Python Student Card\n",
      "Student Name: {name}\n",
      "Father Name: .....\n",
      "Education: .....\n",
      "Age: .....\n",
      "\n"
     ]
    }
   ],
   "source": [
    "name : str = \"Muhammad Jibran Rehan\"\n",
    "father_name : str = \"Rehan Farooq Ul Haq\"\n",
    "education : str = \"IX\"\n",
    "age : int = 15\n",
    "\n",
    "card : str = \"\"\"\n",
    "Python Student Card\n",
    "Student Name: ....\n",
    "Father Name: .....\n",
    "Education: .....\n",
    "Age: .....\n",
    "\"\"\"\n",
    "\n",
    "print(card)"
   ]
  },
  {
   "cell_type": "markdown",
   "metadata": {},
   "source": [
    "# F string"
   ]
  },
  {
   "cell_type": "code",
   "execution_count": 34,
   "metadata": {},
   "outputs": [
    {
     "name": "stdout",
     "output_type": "stream",
     "text": [
      "\n",
      "Python Student Card\n",
      "Student Name: Muhammad Jibran Rehan\n",
      "Father Name: Rehan Farooq Ul Haq\n",
      "Education: IX\n",
      "Age: 15\n",
      "\n"
     ]
    }
   ],
   "source": [
    "name : str = \"Muhammad Jibran Rehan\"\n",
    "father_name : str = \"Rehan Farooq Ul Haq\"\n",
    "education : str = \"IX\"\n",
    "age : int = 15\n",
    "\n",
    "card : str = f\"\"\"\n",
    "Python Student Card\n",
    "Student Name: {name}\n",
    "Father Name: {father_name}\n",
    "Education: {education}\n",
    "Age: {age}\n",
    "\"\"\"\n",
    "\n",
    "print(card)"
   ]
  }
 ],
 "metadata": {
  "kernelspec": {
   "display_name": "python14",
   "language": "python",
   "name": "python3"
  },
  "language_info": {
   "codemirror_mode": {
    "name": "ipython",
    "version": 3
   },
   "file_extension": ".py",
   "mimetype": "text/x-python",
   "name": "python",
   "nbconvert_exporter": "python",
   "pygments_lexer": "ipython3",
   "version": "3.12.0"
  }
 },
 "nbformat": 4,
 "nbformat_minor": 2
}
